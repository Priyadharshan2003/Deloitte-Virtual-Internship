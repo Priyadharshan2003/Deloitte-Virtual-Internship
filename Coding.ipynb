{
 "cells": [
  {
   "cell_type": "markdown",
   "id": "26c11a04",
   "metadata": {},
   "source": [
    "We have signed a new account - Daikibo Industrials, a global leader in the manufacturing of heavy machinery, founded and headquartered in Tokyo, Japan. They needed assistance with a variety of problems and were impressed to find out Deloitte could help in all verticals.\n",
    "\n",
    "Daikibo is in the process of integrating IIoT (Industrial Internet-of-Things) devices to monitor, measure and analyze their manufacturing processes. Half of their infrastructure uses devices streaming telemetry data in one format, and the other half - in another. They need your help to combine the two."
   ]
  },
  {
   "cell_type": "code",
   "execution_count": 1,
   "id": "cf7dca83",
   "metadata": {},
   "outputs": [],
   "source": [
    "import json, unittest, datetime\n",
    "import pandas as pd"
   ]
  },
  {
   "cell_type": "code",
   "execution_count": 2,
   "id": "bf45b218",
   "metadata": {},
   "outputs": [],
   "source": [
    "with open(\"data-1.json\",\"r\",  encoding=\"utf8\") as f:\n",
    "     jsonData1 = json.load(f)"
   ]
  },
  {
   "cell_type": "code",
   "execution_count": 3,
   "id": "c266d5e3",
   "metadata": {},
   "outputs": [
    {
     "data": {
      "text/plain": [
       "{'deviceID': 'dh28dslkja',\n",
       " 'deviceType': 'LaserCutter',\n",
       " 'timestamp': 1624445837783,\n",
       " 'location': 'japan/tokyo/keiyō-industrial-zone/daikibo-factory-meiyo/section-1',\n",
       " 'operationStatus': 'healthy',\n",
       " 'temp': 22}"
      ]
     },
     "execution_count": 3,
     "metadata": {},
     "output_type": "execute_result"
    }
   ],
   "source": [
    "jsonData1"
   ]
  },
  {
   "cell_type": "code",
   "execution_count": 4,
   "id": "a2df7762",
   "metadata": {},
   "outputs": [],
   "source": [
    "with open(\"./data-2.json\",\"r\",encoding=\"utf8\") as f:\n",
    "    jsonData2 = json.load(f)"
   ]
  },
  {
   "cell_type": "code",
   "execution_count": 5,
   "id": "746e97c9",
   "metadata": {},
   "outputs": [
    {
     "data": {
      "text/plain": [
       "{'device': {'id': 'dh28dslkja', 'type': 'LaserCutter'},\n",
       " 'timestamp': '2021-06-23T10:57:17.783Z',\n",
       " 'country': 'japan',\n",
       " 'city': 'tokyo',\n",
       " 'area': 'keiyō-industrial-zone',\n",
       " 'factory': 'daikibo-factory-meiyo',\n",
       " 'section': 'section-1',\n",
       " 'data': {'status': 'healthy', 'temperature': 22}}"
      ]
     },
     "execution_count": 5,
     "metadata": {},
     "output_type": "execute_result"
    }
   ],
   "source": [
    "jsonData2"
   ]
  },
  {
   "cell_type": "code",
   "execution_count": 6,
   "id": "4c3e6280",
   "metadata": {},
   "outputs": [],
   "source": [
    "with open(\"./data-result.json\",\"r\",encoding=\"utf8\") as f:\n",
    "    jsonExpectedResult = json.load(f)"
   ]
  },
  {
   "cell_type": "code",
   "execution_count": 7,
   "id": "c984beff",
   "metadata": {},
   "outputs": [
    {
     "data": {
      "text/plain": [
       "{'deviceID': 'dh28dslkja',\n",
       " 'deviceType': 'LaserCutter',\n",
       " 'timestamp': 1624445837783,\n",
       " 'location': {'country': 'japan',\n",
       "  'city': 'tokyo',\n",
       "  'area': 'keiyō-industrial-zone',\n",
       "  'factory': 'daikibo-factory-meiyo',\n",
       "  'section': 'section-1'},\n",
       " 'data': {'status': 'healthy', 'temperature': 22}}"
      ]
     },
     "execution_count": 7,
     "metadata": {},
     "output_type": "execute_result"
    }
   ],
   "source": [
    "jsonExpectedResult"
   ]
  },
  {
   "cell_type": "code",
   "execution_count": 8,
   "id": "3a25aca0",
   "metadata": {},
   "outputs": [],
   "source": [
    "def convertFromFormat1 (jsonObject):\n",
    "\n",
    "    jsonData1[\"deviceID\"]\n",
    "    jsonData1['deviceType']\n",
    "    jsonData1['timestamp']\n",
    "    \n",
    "    return NotImplemented"
   ]
  },
  {
   "cell_type": "code",
   "execution_count": 9,
   "id": "fdff7838",
   "metadata": {},
   "outputs": [],
   "source": [
    "def convertFromFormat2 (jsonObject):\n",
    "\n",
    "    # IMPLEMENT: Conversion From Type 1\n",
    "\n",
    "    return NotImplemented"
   ]
  },
  {
   "cell_type": "code",
   "execution_count": 10,
   "id": "fdb0613e",
   "metadata": {},
   "outputs": [],
   "source": [
    "def main (jsonObject):\n",
    "\n",
    "    result = {}\n",
    "\n",
    "    if (jsonObject.get('device') == None):\n",
    "        result = convertFromFormat1(jsonObject)\n",
    "    else:\n",
    "        result = convertFromFormat2(jsonObject)\n",
    "\n",
    "    return result"
   ]
  },
  {
   "cell_type": "code",
   "execution_count": 11,
   "id": "ba4c09e7",
   "metadata": {},
   "outputs": [
    {
     "name": "stderr",
     "output_type": "stream",
     "text": [
      "E\n",
      "======================================================================\n",
      "ERROR: C:\\Users\\Dennis\\AppData\\Roaming\\jupyter\\runtime\\kernel-53456077-3b5d-446b-a0db-93a6511b6971 (unittest.loader._FailedTest)\n",
      "----------------------------------------------------------------------\n",
      "AttributeError: module '__main__' has no attribute 'C:\\Users\\Dennis\\AppData\\Roaming\\jupyter\\runtime\\kernel-53456077-3b5d-446b-a0db-93a6511b6971'\n",
      "\n",
      "----------------------------------------------------------------------\n",
      "Ran 1 test in 0.002s\n",
      "\n",
      "FAILED (errors=1)\n"
     ]
    },
    {
     "ename": "SystemExit",
     "evalue": "True",
     "output_type": "error",
     "traceback": [
      "An exception has occurred, use %tb to see the full traceback.\n",
      "\u001b[1;31mSystemExit\u001b[0m\u001b[1;31m:\u001b[0m True\n"
     ]
    },
    {
     "name": "stderr",
     "output_type": "stream",
     "text": [
      "C:\\ProgramData\\Anaconda3\\lib\\site-packages\\IPython\\core\\interactiveshell.py:3445: UserWarning: To exit: use 'exit', 'quit', or Ctrl-D.\n",
      "  warn(\"To exit: use 'exit', 'quit', or Ctrl-D.\", stacklevel=1)\n"
     ]
    }
   ],
   "source": [
    "class TestSolution(unittest.TestCase):\n",
    "\n",
    "    def test_sanity(self):\n",
    "\n",
    "        result = json.loads(json.dumps(jsonExpectedResult))\n",
    "        self.assertEqual(\n",
    "            result,\n",
    "            jsonExpectedResult\n",
    "        )\n",
    "\n",
    "    def test_dataType1(self):\n",
    "\n",
    "        result = main (jsonData1)\n",
    "        self.assertEqual(\n",
    "            result,\n",
    "            jsonExpectedResult,\n",
    "            'Converting from Type 1 failed'\n",
    "        )\n",
    "\n",
    "    def test_dataType2(self):\n",
    "\n",
    "        result = main (jsonData2)\n",
    "        self.assertEqual(\n",
    "            result,\n",
    "            jsonExpectedResult,\n",
    "            'Converting from Type 2 failed'\n",
    "        )\n",
    "\n",
    "if __name__ == '__main__':\n",
    "    unittest.main()"
   ]
  },
  {
   "cell_type": "code",
   "execution_count": null,
   "id": "236cdc3e",
   "metadata": {},
   "outputs": [],
   "source": []
  }
 ],
 "metadata": {
  "kernelspec": {
   "display_name": "Python 3",
   "language": "python",
   "name": "python3"
  },
  "language_info": {
   "codemirror_mode": {
    "name": "ipython",
    "version": 3
   },
   "file_extension": ".py",
   "mimetype": "text/x-python",
   "name": "python",
   "nbconvert_exporter": "python",
   "pygments_lexer": "ipython3",
   "version": "3.8.8"
  }
 },
 "nbformat": 4,
 "nbformat_minor": 5
}
